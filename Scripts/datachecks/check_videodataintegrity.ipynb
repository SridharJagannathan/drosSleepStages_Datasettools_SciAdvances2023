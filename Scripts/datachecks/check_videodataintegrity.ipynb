{
 "cells": [
  {
   "cell_type": "code",
   "execution_count": 11,
   "metadata": {},
   "outputs": [
    {
     "name": "stdout",
     "output_type": "stream",
     "text": [
      "3.6.8\n"
     ]
    }
   ],
   "source": [
    "from platform import python_version\n",
    "print(python_version())"
   ]
  },
  {
   "cell_type": "code",
   "execution_count": 1,
   "metadata": {},
   "outputs": [],
   "source": [
    "import cv2\n",
    "from pandas import read_csv\n",
    "from tqdm import tqdm_notebook  \n",
    "import glob\n",
    "from multiprocessing import Pool\n",
    "import multiprocessing as mp"
   ]
  },
  {
   "cell_type": "code",
   "execution_count": 2,
   "metadata": {},
   "outputs": [],
   "source": [
    "import os\n",
    "os.environ[\"IMAGEIO_FFMPEG_EXE\"] = \"/home/srj34/ffmpeg/ffmpeg\""
   ]
  },
  {
   "cell_type": "code",
   "execution_count": 3,
   "metadata": {},
   "outputs": [],
   "source": [
    "from moviepy.editor import VideoFileClip"
   ]
  },
  {
   "cell_type": "code",
   "execution_count": 4,
   "metadata": {},
   "outputs": [],
   "source": [
    "inputfolderdir = \"/rds/project/tb419/rds-tb419-bekinschtein/Sri\"\n",
    "inputfolderpath = inputfolderdir + \"/SpatialAttention_Drowsiness/SleepOnset_Drosophila/multichannel/\" +\\\n",
    "                  \"dryad_upload/DrosSponSleep_SciAdvances2023_08/\"\n",
    "inputfilename = \"23_13032019_SponSleep_LFP\"\n",
    "\n",
    "inputfolderpath = inputfolderpath + inputfilename + \"/video/\"\n",
    "inputfilename = inputfilename[3:]"
   ]
  },
  {
   "cell_type": "code",
   "execution_count": 5,
   "metadata": {},
   "outputs": [
    {
     "name": "stdout",
     "output_type": "stream",
     "text": [
      "Input folder: /rds/project/tb419/rds-tb419-bekinschtein/Sri/SpatialAttention_Drowsiness/SleepOnset_Drosophila/multichannel/dryad_upload/DrosSponSleep_SciAdvances2023_08/23_13032019_SponSleep_LFP/video/\n"
     ]
    }
   ],
   "source": [
    "print('Input folder: ' + inputfolderpath)"
   ]
  },
  {
   "cell_type": "code",
   "execution_count": 6,
   "metadata": {},
   "outputs": [],
   "source": [
    "#\"02_27072018_SponSleep_LFP\" --> Video file Ok\n",
    "#\"03_14092018_SponSleep_LFP\" --> Video file Ok\n",
    "#\"04_17092018_SponSleep_LFP\" --> Video file Ok\n",
    "#\"06_30102018_SponSleep_LFP\" --> Video file Ok\n",
    "#\"07_01112018_SponSleep_LFP\" --> Video file Ok\n",
    "#\"08_03112018_SponSleep_LFP\" --> Video file Ok\n",
    "#\"09_13112018_SponSleep_LFP\" --> 12_,14_,19_.avi(missing), from 13_.avi(possibly corrupt)\n",
    "#\"12_28112018_SponSleep_LFP\" --> Video file Ok\n",
    "#\"14_11122018_SponSleep_LFP\" --> Video file Ok\n",
    "#\"15_13122018_SponSleep_LFP\" --> Video file Ok\n",
    "#\"16_18122018_SponSleep_LFP\" --> Video file Ok\n",
    "#\"17_10012019_SponSleep_LFP\" --> Video file Ok\n",
    "#\"18_17012019_SponSleep_LFP\" --> Video file Ok\n",
    "#\"19_22012019_SponSleep_LFP\" --> Video file Ok\n",
    "#\"21_20022019_SponSleep_LFP\" --> Video file Ok\n",
    "#\"23_13032019_SponSleep_LFP\" --> Video file Ok"
   ]
  },
  {
   "cell_type": "code",
   "execution_count": 7,
   "metadata": {},
   "outputs": [
    {
     "name": "stdout",
     "output_type": "stream",
     "text": [
      "/rds/project/tb419/rds-tb419-bekinschtein/Sri/SpatialAttention_Drowsiness/SleepOnset_Drosophila/multichannel/dryad_upload/DrosSponSleep_SciAdvances2023_08/23_13032019_SponSleep_LFP/video/13032019_SponSleep_LFP_01_.avi\n",
      "/rds/project/tb419/rds-tb419-bekinschtein/Sri/SpatialAttention_Drowsiness/SleepOnset_Drosophila/multichannel/dryad_upload/DrosSponSleep_SciAdvances2023_08/23_13032019_SponSleep_LFP/video/13032019_SponSleep_LFP_02_.avi\n",
      "/rds/project/tb419/rds-tb419-bekinschtein/Sri/SpatialAttention_Drowsiness/SleepOnset_Drosophila/multichannel/dryad_upload/DrosSponSleep_SciAdvances2023_08/23_13032019_SponSleep_LFP/video/13032019_SponSleep_LFP_03_.avi\n",
      "/rds/project/tb419/rds-tb419-bekinschtein/Sri/SpatialAttention_Drowsiness/SleepOnset_Drosophila/multichannel/dryad_upload/DrosSponSleep_SciAdvances2023_08/23_13032019_SponSleep_LFP/video/13032019_SponSleep_LFP_04_.avi\n",
      "/rds/project/tb419/rds-tb419-bekinschtein/Sri/SpatialAttention_Drowsiness/SleepOnset_Drosophila/multichannel/dryad_upload/DrosSponSleep_SciAdvances2023_08/23_13032019_SponSleep_LFP/video/13032019_SponSleep_LFP_05_.avi\n",
      "/rds/project/tb419/rds-tb419-bekinschtein/Sri/SpatialAttention_Drowsiness/SleepOnset_Drosophila/multichannel/dryad_upload/DrosSponSleep_SciAdvances2023_08/23_13032019_SponSleep_LFP/video/13032019_SponSleep_LFP_06_.avi\n",
      "/rds/project/tb419/rds-tb419-bekinschtein/Sri/SpatialAttention_Drowsiness/SleepOnset_Drosophila/multichannel/dryad_upload/DrosSponSleep_SciAdvances2023_08/23_13032019_SponSleep_LFP/video/13032019_SponSleep_LFP_07_.avi\n",
      "/rds/project/tb419/rds-tb419-bekinschtein/Sri/SpatialAttention_Drowsiness/SleepOnset_Drosophila/multichannel/dryad_upload/DrosSponSleep_SciAdvances2023_08/23_13032019_SponSleep_LFP/video/13032019_SponSleep_LFP_08_.avi\n",
      "/rds/project/tb419/rds-tb419-bekinschtein/Sri/SpatialAttention_Drowsiness/SleepOnset_Drosophila/multichannel/dryad_upload/DrosSponSleep_SciAdvances2023_08/23_13032019_SponSleep_LFP/video/13032019_SponSleep_LFP_09_.avi\n",
      "/rds/project/tb419/rds-tb419-bekinschtein/Sri/SpatialAttention_Drowsiness/SleepOnset_Drosophila/multichannel/dryad_upload/DrosSponSleep_SciAdvances2023_08/23_13032019_SponSleep_LFP/video/13032019_SponSleep_LFP_10_.avi\n",
      "/rds/project/tb419/rds-tb419-bekinschtein/Sri/SpatialAttention_Drowsiness/SleepOnset_Drosophila/multichannel/dryad_upload/DrosSponSleep_SciAdvances2023_08/23_13032019_SponSleep_LFP/video/13032019_SponSleep_LFP_11_.avi\n",
      "/rds/project/tb419/rds-tb419-bekinschtein/Sri/SpatialAttention_Drowsiness/SleepOnset_Drosophila/multichannel/dryad_upload/DrosSponSleep_SciAdvances2023_08/23_13032019_SponSleep_LFP/video/13032019_SponSleep_LFP_12_.avi\n",
      "/rds/project/tb419/rds-tb419-bekinschtein/Sri/SpatialAttention_Drowsiness/SleepOnset_Drosophila/multichannel/dryad_upload/DrosSponSleep_SciAdvances2023_08/23_13032019_SponSleep_LFP/video/13032019_SponSleep_LFP_13_.avi\n",
      "/rds/project/tb419/rds-tb419-bekinschtein/Sri/SpatialAttention_Drowsiness/SleepOnset_Drosophila/multichannel/dryad_upload/DrosSponSleep_SciAdvances2023_08/23_13032019_SponSleep_LFP/video/13032019_SponSleep_LFP_14_.avi\n",
      "/rds/project/tb419/rds-tb419-bekinschtein/Sri/SpatialAttention_Drowsiness/SleepOnset_Drosophila/multichannel/dryad_upload/DrosSponSleep_SciAdvances2023_08/23_13032019_SponSleep_LFP/video/13032019_SponSleep_LFP_15_.avi\n",
      "/rds/project/tb419/rds-tb419-bekinschtein/Sri/SpatialAttention_Drowsiness/SleepOnset_Drosophila/multichannel/dryad_upload/DrosSponSleep_SciAdvances2023_08/23_13032019_SponSleep_LFP/video/13032019_SponSleep_LFP_16_.avi\n",
      "/rds/project/tb419/rds-tb419-bekinschtein/Sri/SpatialAttention_Drowsiness/SleepOnset_Drosophila/multichannel/dryad_upload/DrosSponSleep_SciAdvances2023_08/23_13032019_SponSleep_LFP/video/13032019_SponSleep_LFP_17_.avi\n",
      "/rds/project/tb419/rds-tb419-bekinschtein/Sri/SpatialAttention_Drowsiness/SleepOnset_Drosophila/multichannel/dryad_upload/DrosSponSleep_SciAdvances2023_08/23_13032019_SponSleep_LFP/video/13032019_SponSleep_LFP_18_.avi\n",
      "/rds/project/tb419/rds-tb419-bekinschtein/Sri/SpatialAttention_Drowsiness/SleepOnset_Drosophila/multichannel/dryad_upload/DrosSponSleep_SciAdvances2023_08/23_13032019_SponSleep_LFP/video/13032019_SponSleep_LFP_19_.avi\n",
      "/rds/project/tb419/rds-tb419-bekinschtein/Sri/SpatialAttention_Drowsiness/SleepOnset_Drosophila/multichannel/dryad_upload/DrosSponSleep_SciAdvances2023_08/23_13032019_SponSleep_LFP/video/13032019_SponSleep_LFP_20_.avi\n",
      "/rds/project/tb419/rds-tb419-bekinschtein/Sri/SpatialAttention_Drowsiness/SleepOnset_Drosophila/multichannel/dryad_upload/DrosSponSleep_SciAdvances2023_08/23_13032019_SponSleep_LFP/video/13032019_SponSleep_LFP_21_.avi\n",
      "/rds/project/tb419/rds-tb419-bekinschtein/Sri/SpatialAttention_Drowsiness/SleepOnset_Drosophila/multichannel/dryad_upload/DrosSponSleep_SciAdvances2023_08/23_13032019_SponSleep_LFP/video/13032019_SponSleep_LFP_22_.avi\n",
      "/rds/project/tb419/rds-tb419-bekinschtein/Sri/SpatialAttention_Drowsiness/SleepOnset_Drosophila/multichannel/dryad_upload/DrosSponSleep_SciAdvances2023_08/23_13032019_SponSleep_LFP/video/13032019_SponSleep_LFP_23_.avi\n",
      "/rds/project/tb419/rds-tb419-bekinschtein/Sri/SpatialAttention_Drowsiness/SleepOnset_Drosophila/multichannel/dryad_upload/DrosSponSleep_SciAdvances2023_08/23_13032019_SponSleep_LFP/video/13032019_SponSleep_LFP_01_.csv\n",
      "/rds/project/tb419/rds-tb419-bekinschtein/Sri/SpatialAttention_Drowsiness/SleepOnset_Drosophila/multichannel/dryad_upload/DrosSponSleep_SciAdvances2023_08/23_13032019_SponSleep_LFP/video/13032019_SponSleep_LFP_02_.csv\n",
      "/rds/project/tb419/rds-tb419-bekinschtein/Sri/SpatialAttention_Drowsiness/SleepOnset_Drosophila/multichannel/dryad_upload/DrosSponSleep_SciAdvances2023_08/23_13032019_SponSleep_LFP/video/13032019_SponSleep_LFP_03_.csv\n",
      "/rds/project/tb419/rds-tb419-bekinschtein/Sri/SpatialAttention_Drowsiness/SleepOnset_Drosophila/multichannel/dryad_upload/DrosSponSleep_SciAdvances2023_08/23_13032019_SponSleep_LFP/video/13032019_SponSleep_LFP_04_.csv\n",
      "/rds/project/tb419/rds-tb419-bekinschtein/Sri/SpatialAttention_Drowsiness/SleepOnset_Drosophila/multichannel/dryad_upload/DrosSponSleep_SciAdvances2023_08/23_13032019_SponSleep_LFP/video/13032019_SponSleep_LFP_05_.csv\n",
      "/rds/project/tb419/rds-tb419-bekinschtein/Sri/SpatialAttention_Drowsiness/SleepOnset_Drosophila/multichannel/dryad_upload/DrosSponSleep_SciAdvances2023_08/23_13032019_SponSleep_LFP/video/13032019_SponSleep_LFP_06_.csv\n",
      "/rds/project/tb419/rds-tb419-bekinschtein/Sri/SpatialAttention_Drowsiness/SleepOnset_Drosophila/multichannel/dryad_upload/DrosSponSleep_SciAdvances2023_08/23_13032019_SponSleep_LFP/video/13032019_SponSleep_LFP_07_.csv\n",
      "/rds/project/tb419/rds-tb419-bekinschtein/Sri/SpatialAttention_Drowsiness/SleepOnset_Drosophila/multichannel/dryad_upload/DrosSponSleep_SciAdvances2023_08/23_13032019_SponSleep_LFP/video/13032019_SponSleep_LFP_08_.csv\n",
      "/rds/project/tb419/rds-tb419-bekinschtein/Sri/SpatialAttention_Drowsiness/SleepOnset_Drosophila/multichannel/dryad_upload/DrosSponSleep_SciAdvances2023_08/23_13032019_SponSleep_LFP/video/13032019_SponSleep_LFP_09_.csv\n",
      "/rds/project/tb419/rds-tb419-bekinschtein/Sri/SpatialAttention_Drowsiness/SleepOnset_Drosophila/multichannel/dryad_upload/DrosSponSleep_SciAdvances2023_08/23_13032019_SponSleep_LFP/video/13032019_SponSleep_LFP_10_.csv\n",
      "/rds/project/tb419/rds-tb419-bekinschtein/Sri/SpatialAttention_Drowsiness/SleepOnset_Drosophila/multichannel/dryad_upload/DrosSponSleep_SciAdvances2023_08/23_13032019_SponSleep_LFP/video/13032019_SponSleep_LFP_11_.csv\n",
      "/rds/project/tb419/rds-tb419-bekinschtein/Sri/SpatialAttention_Drowsiness/SleepOnset_Drosophila/multichannel/dryad_upload/DrosSponSleep_SciAdvances2023_08/23_13032019_SponSleep_LFP/video/13032019_SponSleep_LFP_12_.csv\n",
      "/rds/project/tb419/rds-tb419-bekinschtein/Sri/SpatialAttention_Drowsiness/SleepOnset_Drosophila/multichannel/dryad_upload/DrosSponSleep_SciAdvances2023_08/23_13032019_SponSleep_LFP/video/13032019_SponSleep_LFP_13_.csv\n",
      "/rds/project/tb419/rds-tb419-bekinschtein/Sri/SpatialAttention_Drowsiness/SleepOnset_Drosophila/multichannel/dryad_upload/DrosSponSleep_SciAdvances2023_08/23_13032019_SponSleep_LFP/video/13032019_SponSleep_LFP_14_.csv\n",
      "/rds/project/tb419/rds-tb419-bekinschtein/Sri/SpatialAttention_Drowsiness/SleepOnset_Drosophila/multichannel/dryad_upload/DrosSponSleep_SciAdvances2023_08/23_13032019_SponSleep_LFP/video/13032019_SponSleep_LFP_15_.csv\n",
      "/rds/project/tb419/rds-tb419-bekinschtein/Sri/SpatialAttention_Drowsiness/SleepOnset_Drosophila/multichannel/dryad_upload/DrosSponSleep_SciAdvances2023_08/23_13032019_SponSleep_LFP/video/13032019_SponSleep_LFP_16_.csv\n",
      "/rds/project/tb419/rds-tb419-bekinschtein/Sri/SpatialAttention_Drowsiness/SleepOnset_Drosophila/multichannel/dryad_upload/DrosSponSleep_SciAdvances2023_08/23_13032019_SponSleep_LFP/video/13032019_SponSleep_LFP_17_.csv\n",
      "/rds/project/tb419/rds-tb419-bekinschtein/Sri/SpatialAttention_Drowsiness/SleepOnset_Drosophila/multichannel/dryad_upload/DrosSponSleep_SciAdvances2023_08/23_13032019_SponSleep_LFP/video/13032019_SponSleep_LFP_18_.csv\n",
      "/rds/project/tb419/rds-tb419-bekinschtein/Sri/SpatialAttention_Drowsiness/SleepOnset_Drosophila/multichannel/dryad_upload/DrosSponSleep_SciAdvances2023_08/23_13032019_SponSleep_LFP/video/13032019_SponSleep_LFP_19_.csv\n",
      "/rds/project/tb419/rds-tb419-bekinschtein/Sri/SpatialAttention_Drowsiness/SleepOnset_Drosophila/multichannel/dryad_upload/DrosSponSleep_SciAdvances2023_08/23_13032019_SponSleep_LFP/video/13032019_SponSleep_LFP_20_.csv\n",
      "/rds/project/tb419/rds-tb419-bekinschtein/Sri/SpatialAttention_Drowsiness/SleepOnset_Drosophila/multichannel/dryad_upload/DrosSponSleep_SciAdvances2023_08/23_13032019_SponSleep_LFP/video/13032019_SponSleep_LFP_21_.csv\n",
      "/rds/project/tb419/rds-tb419-bekinschtein/Sri/SpatialAttention_Drowsiness/SleepOnset_Drosophila/multichannel/dryad_upload/DrosSponSleep_SciAdvances2023_08/23_13032019_SponSleep_LFP/video/13032019_SponSleep_LFP_22_.csv\n",
      "/rds/project/tb419/rds-tb419-bekinschtein/Sri/SpatialAttention_Drowsiness/SleepOnset_Drosophila/multichannel/dryad_upload/DrosSponSleep_SciAdvances2023_08/23_13032019_SponSleep_LFP/video/13032019_SponSleep_LFP_23_.csv\n"
     ]
    }
   ],
   "source": [
    "videofilelist = []\n",
    "\n",
    "for name in sorted(glob.glob(inputfolderpath + inputfilename + \"_*.avi\")):\n",
    "    videofilelist.append(name)\n",
    "    print(name)\n",
    "    \n",
    "csvfilelist = []    \n",
    "for name in sorted(glob.glob(inputfolderpath + inputfilename + \"_*.csv\")):\n",
    "    csvfilelist.append(name)\n",
    "    print(name)\n",
    "    \n",
    "indexlength = range(len(videofilelist))\n",
    "fullist = [x for x in zip(videofilelist, csvfilelist, indexlength)]"
   ]
  },
  {
   "cell_type": "code",
   "execution_count": 8,
   "metadata": {},
   "outputs": [
    {
     "data": {
      "text/plain": [
       "23"
      ]
     },
     "execution_count": 8,
     "metadata": {},
     "output_type": "execute_result"
    }
   ],
   "source": [
    "len(fullist)"
   ]
  },
  {
   "cell_type": "code",
   "execution_count": 9,
   "metadata": {},
   "outputs": [],
   "source": [
    "def check_videofile(videofile, csvfile, index):\n",
    "    print(\" video file #\" + str(index+1) +\" :\" + os.path.basename(videofile))\n",
    "    functext = \" csv file #\" + str(index+1) +\" :\" + os.path.basename(csvfile)\n",
    "    #Use moviepy to load the clip instead of opencv\n",
    "    clip = VideoFileClip(videofile) \n",
    "    #store the data in a csv file as you go..\n",
    "    df = read_csv(csvfile)\n",
    "    df['Movement'] = ''\n",
    "    df['Area'] = ''\n",
    "\n",
    "    csv_length = int(len(df))\n",
    "    \n",
    "    pbar = tqdm_notebook(total = csv_length)\n",
    "    \n",
    "    n_frames = 0\n",
    "    for frame in clip.iter_frames():\n",
    "        n_frames = n_frames+1\n",
    "        pbar.update(1)\n",
    "        \n",
    "    video_length = n_frames\n",
    "    \n",
    "    print(\"CSV_filelength: \" + str(csv_length))\n",
    "    print(\"Video_filelength: \" + str(video_length))\n",
    "    \n",
    "    print(\"Diff: \"+ str(csv_length-video_length))"
   ]
  },
  {
   "cell_type": "code",
   "execution_count": 10,
   "metadata": {},
   "outputs": [
    {
     "name": "stdout",
     "output_type": "stream",
     "text": [
      " video file #1 :13032019_SponSleep_LFP_01_.avi\n"
     ]
    },
    {
     "data": {
      "application/vnd.jupyter.widget-view+json": {
       "model_id": "340ace5c72b84b419a206db3c62a2e4e",
       "version_major": 2,
       "version_minor": 0
      },
      "text/plain": [
       "HBox(children=(FloatProgress(value=0.0, max=99239.0), HTML(value='')))"
      ]
     },
     "metadata": {},
     "output_type": "display_data"
    },
    {
     "name": "stdout",
     "output_type": "stream",
     "text": [
      "CSV_filelength: 99239\n",
      "Video_filelength: 99240\n",
      "Diff: -1\n",
      " video file #2 :13032019_SponSleep_LFP_02_.avi\n"
     ]
    },
    {
     "data": {
      "application/vnd.jupyter.widget-view+json": {
       "model_id": "373b9b77b8e14dc7aa00af889686d316",
       "version_major": 2,
       "version_minor": 0
      },
      "text/plain": [
       "HBox(children=(FloatProgress(value=0.0, max=99202.0), HTML(value='')))"
      ]
     },
     "metadata": {},
     "output_type": "display_data"
    },
    {
     "name": "stdout",
     "output_type": "stream",
     "text": [
      "CSV_filelength: 99202\n",
      "Video_filelength: 99202\n",
      "Diff: 0\n",
      " video file #3 :13032019_SponSleep_LFP_03_.avi\n"
     ]
    },
    {
     "data": {
      "application/vnd.jupyter.widget-view+json": {
       "model_id": "aa1bc56664d145df8f99b2b54b8ff68c",
       "version_major": 2,
       "version_minor": 0
      },
      "text/plain": [
       "HBox(children=(FloatProgress(value=0.0, max=99210.0), HTML(value='')))"
      ]
     },
     "metadata": {},
     "output_type": "display_data"
    },
    {
     "name": "stdout",
     "output_type": "stream",
     "text": [
      "CSV_filelength: 99210\n",
      "Video_filelength: 99210\n",
      "Diff: 0\n",
      " video file #4 :13032019_SponSleep_LFP_04_.avi\n"
     ]
    },
    {
     "data": {
      "application/vnd.jupyter.widget-view+json": {
       "model_id": "a944dbd9eda745ceb51d8a4434dcf9fb",
       "version_major": 2,
       "version_minor": 0
      },
      "text/plain": [
       "HBox(children=(FloatProgress(value=0.0, max=99245.0), HTML(value='')))"
      ]
     },
     "metadata": {},
     "output_type": "display_data"
    },
    {
     "name": "stdout",
     "output_type": "stream",
     "text": [
      "CSV_filelength: 99245\n",
      "Video_filelength: 99246\n",
      "Diff: -1\n",
      " video file #5 :13032019_SponSleep_LFP_05_.avi\n"
     ]
    },
    {
     "data": {
      "application/vnd.jupyter.widget-view+json": {
       "model_id": "cfee3ffcabfe45ce88b2224f23b8ad25",
       "version_major": 2,
       "version_minor": 0
      },
      "text/plain": [
       "HBox(children=(FloatProgress(value=0.0, max=99216.0), HTML(value='')))"
      ]
     },
     "metadata": {},
     "output_type": "display_data"
    },
    {
     "name": "stdout",
     "output_type": "stream",
     "text": [
      "CSV_filelength: 99216\n",
      "Video_filelength: 99216\n",
      "Diff: 0\n",
      " video file #6 :13032019_SponSleep_LFP_06_.avi\n"
     ]
    },
    {
     "data": {
      "application/vnd.jupyter.widget-view+json": {
       "model_id": "02ee3905ef9e4d64bd5609804a3bd0c8",
       "version_major": 2,
       "version_minor": 0
      },
      "text/plain": [
       "HBox(children=(FloatProgress(value=0.0, max=99246.0), HTML(value='')))"
      ]
     },
     "metadata": {},
     "output_type": "display_data"
    },
    {
     "name": "stdout",
     "output_type": "stream",
     "text": [
      "CSV_filelength: 99246\n",
      "Video_filelength: 99246\n",
      "Diff: 0\n",
      " video file #7 :13032019_SponSleep_LFP_07_.avi\n"
     ]
    },
    {
     "data": {
      "application/vnd.jupyter.widget-view+json": {
       "model_id": "51122865509947ee88a644c253ba9656",
       "version_major": 2,
       "version_minor": 0
      },
      "text/plain": [
       "HBox(children=(FloatProgress(value=0.0, max=99234.0), HTML(value='')))"
      ]
     },
     "metadata": {},
     "output_type": "display_data"
    },
    {
     "name": "stdout",
     "output_type": "stream",
     "text": [
      "CSV_filelength: 99234\n",
      "Video_filelength: 99234\n",
      "Diff: 0\n",
      " video file #8 :13032019_SponSleep_LFP_08_.avi\n"
     ]
    },
    {
     "data": {
      "application/vnd.jupyter.widget-view+json": {
       "model_id": "da5acbd77d05418294337e218e91c3f2",
       "version_major": 2,
       "version_minor": 0
      },
      "text/plain": [
       "HBox(children=(FloatProgress(value=0.0, max=99213.0), HTML(value='')))"
      ]
     },
     "metadata": {},
     "output_type": "display_data"
    },
    {
     "name": "stdout",
     "output_type": "stream",
     "text": [
      "CSV_filelength: 99213\n",
      "Video_filelength: 99213\n",
      "Diff: 0\n",
      " video file #9 :13032019_SponSleep_LFP_09_.avi\n"
     ]
    },
    {
     "data": {
      "application/vnd.jupyter.widget-view+json": {
       "model_id": "ef78a563ffaa43daa72a34a5401706b3",
       "version_major": 2,
       "version_minor": 0
      },
      "text/plain": [
       "HBox(children=(FloatProgress(value=0.0, max=99240.0), HTML(value='')))"
      ]
     },
     "metadata": {},
     "output_type": "display_data"
    },
    {
     "name": "stdout",
     "output_type": "stream",
     "text": [
      "CSV_filelength: 99240\n",
      "Video_filelength: 99240\n",
      "Diff: 0\n",
      " video file #10 :13032019_SponSleep_LFP_10_.avi\n"
     ]
    },
    {
     "data": {
      "application/vnd.jupyter.widget-view+json": {
       "model_id": "ed545beb06f34517920547874ac275f0",
       "version_major": 2,
       "version_minor": 0
      },
      "text/plain": [
       "HBox(children=(FloatProgress(value=0.0, max=99251.0), HTML(value='')))"
      ]
     },
     "metadata": {},
     "output_type": "display_data"
    },
    {
     "name": "stdout",
     "output_type": "stream",
     "text": [
      "CSV_filelength: 99251\n",
      "Video_filelength: 99252\n",
      "Diff: -1\n",
      " video file #11 :13032019_SponSleep_LFP_11_.avi\n"
     ]
    },
    {
     "data": {
      "application/vnd.jupyter.widget-view+json": {
       "model_id": "27e7c95f41844fffb42d286d81c403ed",
       "version_major": 2,
       "version_minor": 0
      },
      "text/plain": [
       "HBox(children=(FloatProgress(value=0.0, max=99217.0), HTML(value='')))"
      ]
     },
     "metadata": {},
     "output_type": "display_data"
    },
    {
     "name": "stdout",
     "output_type": "stream",
     "text": [
      "CSV_filelength: 99217\n",
      "Video_filelength: 99217\n",
      "Diff: 0\n",
      " video file #12 :13032019_SponSleep_LFP_12_.avi\n"
     ]
    },
    {
     "data": {
      "application/vnd.jupyter.widget-view+json": {
       "model_id": "6abad5eb79334fc387003d982aea32c5",
       "version_major": 2,
       "version_minor": 0
      },
      "text/plain": [
       "HBox(children=(FloatProgress(value=0.0, max=99231.0), HTML(value='')))"
      ]
     },
     "metadata": {},
     "output_type": "display_data"
    },
    {
     "name": "stdout",
     "output_type": "stream",
     "text": [
      "CSV_filelength: 99231\n",
      "Video_filelength: 99231\n",
      "Diff: 0\n",
      " video file #13 :13032019_SponSleep_LFP_13_.avi\n"
     ]
    },
    {
     "data": {
      "application/vnd.jupyter.widget-view+json": {
       "model_id": "50893c46b79b425a942f22149ec67dfa",
       "version_major": 2,
       "version_minor": 0
      },
      "text/plain": [
       "HBox(children=(FloatProgress(value=0.0, max=113047.0), HTML(value='')))"
      ]
     },
     "metadata": {},
     "output_type": "display_data"
    },
    {
     "name": "stdout",
     "output_type": "stream",
     "text": [
      "CSV_filelength: 113047\n",
      "Video_filelength: 113047\n",
      "Diff: 0\n",
      " video file #14 :13032019_SponSleep_LFP_14_.avi\n"
     ]
    },
    {
     "data": {
      "application/vnd.jupyter.widget-view+json": {
       "model_id": "c54097cd1ac84a4eab8003bfc2db05c6",
       "version_major": 2,
       "version_minor": 0
      },
      "text/plain": [
       "HBox(children=(FloatProgress(value=0.0, max=124893.0), HTML(value='')))"
      ]
     },
     "metadata": {},
     "output_type": "display_data"
    },
    {
     "name": "stdout",
     "output_type": "stream",
     "text": [
      "CSV_filelength: 124893\n",
      "Video_filelength: 124894\n",
      "Diff: -1\n",
      " video file #15 :13032019_SponSleep_LFP_15_.avi\n"
     ]
    },
    {
     "data": {
      "application/vnd.jupyter.widget-view+json": {
       "model_id": "2ac2ccc3c76748e8956373a71c6f8782",
       "version_major": 2,
       "version_minor": 0
      },
      "text/plain": [
       "HBox(children=(FloatProgress(value=0.0, max=124866.0), HTML(value='')))"
      ]
     },
     "metadata": {},
     "output_type": "display_data"
    },
    {
     "name": "stdout",
     "output_type": "stream",
     "text": [
      "CSV_filelength: 124866\n",
      "Video_filelength: 124866\n",
      "Diff: 0\n",
      " video file #16 :13032019_SponSleep_LFP_16_.avi\n"
     ]
    },
    {
     "data": {
      "application/vnd.jupyter.widget-view+json": {
       "model_id": "aa3ec46c7a2c4db7adc5acc1f7cc320c",
       "version_major": 2,
       "version_minor": 0
      },
      "text/plain": [
       "HBox(children=(FloatProgress(value=0.0, max=124895.0), HTML(value='')))"
      ]
     },
     "metadata": {},
     "output_type": "display_data"
    },
    {
     "name": "stdout",
     "output_type": "stream",
     "text": [
      "CSV_filelength: 124895\n",
      "Video_filelength: 124896\n",
      "Diff: -1\n",
      " video file #17 :13032019_SponSleep_LFP_17_.avi\n"
     ]
    },
    {
     "data": {
      "application/vnd.jupyter.widget-view+json": {
       "model_id": "5f4e57177b6f4cfb859f26926ac34c00",
       "version_major": 2,
       "version_minor": 0
      },
      "text/plain": [
       "HBox(children=(FloatProgress(value=0.0, max=124852.0), HTML(value='')))"
      ]
     },
     "metadata": {},
     "output_type": "display_data"
    },
    {
     "name": "stdout",
     "output_type": "stream",
     "text": [
      "CSV_filelength: 124852\n",
      "Video_filelength: 124852\n",
      "Diff: 0\n",
      " video file #18 :13032019_SponSleep_LFP_18_.avi\n"
     ]
    },
    {
     "data": {
      "application/vnd.jupyter.widget-view+json": {
       "model_id": "8da6183511a84c19b6a8a88942f4eba9",
       "version_major": 2,
       "version_minor": 0
      },
      "text/plain": [
       "HBox(children=(FloatProgress(value=0.0, max=124892.0), HTML(value='')))"
      ]
     },
     "metadata": {},
     "output_type": "display_data"
    },
    {
     "name": "stdout",
     "output_type": "stream",
     "text": [
      "CSV_filelength: 124892\n",
      "Video_filelength: 124893\n",
      "Diff: -1\n",
      " video file #19 :13032019_SponSleep_LFP_19_.avi\n"
     ]
    },
    {
     "data": {
      "application/vnd.jupyter.widget-view+json": {
       "model_id": "f5cfba2b96ac4abf9fe90a16e7de2ae2",
       "version_major": 2,
       "version_minor": 0
      },
      "text/plain": [
       "HBox(children=(FloatProgress(value=0.0, max=124881.0), HTML(value='')))"
      ]
     },
     "metadata": {},
     "output_type": "display_data"
    },
    {
     "name": "stdout",
     "output_type": "stream",
     "text": [
      "CSV_filelength: 124881\n",
      "Video_filelength: 124881\n",
      "Diff: 0\n",
      " video file #20 :13032019_SponSleep_LFP_20_.avi\n"
     ]
    },
    {
     "data": {
      "application/vnd.jupyter.widget-view+json": {
       "model_id": "c3fcdeefdff348f1ba0fb1f0ef601b4d",
       "version_major": 2,
       "version_minor": 0
      },
      "text/plain": [
       "HBox(children=(FloatProgress(value=0.0, max=124866.0), HTML(value='')))"
      ]
     },
     "metadata": {},
     "output_type": "display_data"
    },
    {
     "name": "stdout",
     "output_type": "stream",
     "text": [
      "CSV_filelength: 124866\n",
      "Video_filelength: 124866\n",
      "Diff: 0\n",
      " video file #21 :13032019_SponSleep_LFP_21_.avi\n"
     ]
    },
    {
     "data": {
      "application/vnd.jupyter.widget-view+json": {
       "model_id": "6d028301251c4665bf26bd354a758a3c",
       "version_major": 2,
       "version_minor": 0
      },
      "text/plain": [
       "HBox(children=(FloatProgress(value=0.0, max=125085.0), HTML(value='')))"
      ]
     },
     "metadata": {},
     "output_type": "display_data"
    },
    {
     "name": "stdout",
     "output_type": "stream",
     "text": [
      "CSV_filelength: 125085\n",
      "Video_filelength: 125085\n",
      "Diff: 0\n",
      " video file #22 :13032019_SponSleep_LFP_22_.avi\n"
     ]
    },
    {
     "data": {
      "application/vnd.jupyter.widget-view+json": {
       "model_id": "1a0794cc0d614239896d70336af3c917",
       "version_major": 2,
       "version_minor": 0
      },
      "text/plain": [
       "HBox(children=(FloatProgress(value=0.0, max=125125.0), HTML(value='')))"
      ]
     },
     "metadata": {},
     "output_type": "display_data"
    },
    {
     "name": "stdout",
     "output_type": "stream",
     "text": [
      "CSV_filelength: 125125\n",
      "Video_filelength: 125125\n",
      "Diff: 0\n",
      " video file #23 :13032019_SponSleep_LFP_23_.avi\n"
     ]
    },
    {
     "data": {
      "application/vnd.jupyter.widget-view+json": {
       "model_id": "c0070ac3bb184d56b209efeeecf348cf",
       "version_major": 2,
       "version_minor": 0
      },
      "text/plain": [
       "HBox(children=(FloatProgress(value=0.0, max=92351.0), HTML(value='')))"
      ]
     },
     "metadata": {},
     "output_type": "display_data"
    },
    {
     "name": "stdout",
     "output_type": "stream",
     "text": [
      "CSV_filelength: 92351\n",
      "Video_filelength: 92352\n",
      "Diff: -1\n"
     ]
    }
   ],
   "source": [
    "if __name__ == \"__main__\":\n",
    "    for idx in range(0, len(fullist)):\n",
    "        check_videofile(videofilelist[idx], csvfilelist[idx], idx)"
   ]
  },
  {
   "cell_type": "code",
   "execution_count": null,
   "metadata": {},
   "outputs": [],
   "source": []
  },
  {
   "cell_type": "code",
   "execution_count": null,
   "metadata": {},
   "outputs": [],
   "source": []
  },
  {
   "cell_type": "code",
   "execution_count": null,
   "metadata": {},
   "outputs": [],
   "source": []
  },
  {
   "cell_type": "code",
   "execution_count": null,
   "metadata": {},
   "outputs": [],
   "source": []
  }
 ],
 "metadata": {
  "kernelspec": {
   "display_name": "Python 3",
   "language": "python",
   "name": "python3"
  },
  "language_info": {
   "codemirror_mode": {
    "name": "ipython",
    "version": 3
   },
   "file_extension": ".py",
   "mimetype": "text/x-python",
   "name": "python",
   "nbconvert_exporter": "python",
   "pygments_lexer": "ipython3",
   "version": "3.6.8"
  }
 },
 "nbformat": 4,
 "nbformat_minor": 2
}
