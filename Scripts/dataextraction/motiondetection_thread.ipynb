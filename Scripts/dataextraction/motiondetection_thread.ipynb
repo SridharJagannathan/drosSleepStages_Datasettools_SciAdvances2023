{
 "cells": [
  {
   "cell_type": "code",
   "execution_count": 1,
   "metadata": {},
   "outputs": [
    {
     "name": "stdout",
     "output_type": "stream",
     "text": [
      "3.6.8\n"
     ]
    }
   ],
   "source": [
    "import platform\n",
    "print(platform.python_version())"
   ]
  },
  {
   "cell_type": "code",
   "execution_count": 2,
   "metadata": {},
   "outputs": [],
   "source": [
    "import os\n",
    "os.environ[\"IMAGEIO_FFMPEG_EXE\"] = \"/home/srj34/ffmpeg/ffmpeg\""
   ]
  },
  {
   "cell_type": "code",
   "execution_count": 3,
   "metadata": {},
   "outputs": [],
   "source": [
    "# import imutils\n",
    "from moviepy.editor import VideoFileClip\n",
    "import cv2\n",
    "from pandas import read_csv\n",
    "from tqdm import tqdm_notebook  \n",
    "import glob\n",
    "from multiprocessing import Pool\n",
    "import multiprocessing as mp\n",
    "import os"
   ]
  },
  {
   "cell_type": "code",
   "execution_count": null,
   "metadata": {},
   "outputs": [],
   "source": []
  },
  {
   "cell_type": "code",
   "execution_count": 4,
   "metadata": {},
   "outputs": [],
   "source": [
    "basefolderdir = \"/rds/project/tb419/rds-tb419-bekinschtein/Sri\"\n",
    "inputfolderpath = basefolderdir + \"/SpatialAttention_Drowsiness/SleepOnset_Drosophila/multichannel/\" +\\\n",
    "                  \"dryad_upload/DrosSponSleep_SciAdvances2023_01/\"\n",
    "outputfolderpath = basefolderdir + \"/SpatialAttention_Drowsiness/drosSleepStages_Datasettools_SciAdvances2023/\" +\\\n",
    "                  \"temp/\"\n",
    "inputfilename = \"03_14092018_SponSleep_LFP\"\n",
    "\n",
    "outputfolderpath = outputfolderpath + \"/movement/\"\n",
    "inputfolderpath = inputfolderpath + inputfilename +  \"/video/\"\n",
    "inputfilename = inputfilename[3:]"
   ]
  },
  {
   "cell_type": "code",
   "execution_count": 5,
   "metadata": {},
   "outputs": [
    {
     "name": "stdout",
     "output_type": "stream",
     "text": [
      "Input folder: /rds/project/tb419/rds-tb419-bekinschtein/Sri/SpatialAttention_Drowsiness/SleepOnset_Drosophila/multichannel/dryad_upload/DrosSponSleep_SciAdvances2023_01/03_14092018_SponSleep_LFP/video/\n",
      "Output folder: /rds/project/tb419/rds-tb419-bekinschtein/Sri/SpatialAttention_Drowsiness/drosSleepStages_Datasettools_SciAdvances2023/temp//movement/\n"
     ]
    }
   ],
   "source": [
    "print('Input folder: ' + inputfolderpath)\n",
    "print('Output folder: ' + outputfolderpath)"
   ]
  },
  {
   "cell_type": "code",
   "execution_count": null,
   "metadata": {},
   "outputs": [],
   "source": []
  },
  {
   "cell_type": "code",
   "execution_count": 6,
   "metadata": {},
   "outputs": [],
   "source": [
    "#for full sized window\n",
    "#param_xpt = 125 #param_ypt = 125 #param_height = 500 #param_width = 500,param_threshold = 20"
   ]
  },
  {
   "cell_type": "code",
   "execution_count": 7,
   "metadata": {},
   "outputs": [],
   "source": [
    "\n",
    "#param_xpt = 125 #250, param_ypt = 225 #190,225, param_height = 150 #150, param_width = 250  #250, param_threshold = 20\n",
    "#parameters for the window..\n",
    "if inputfilename == \"28112018_SponSleep_LFP\":\n",
    "     param_xpt = 150; param_ypt = 140; param_height = 150; param_width = 250; param_threshold = 20\n",
    "elif inputfilename == \"13112018_SponSleep_LFP\":\n",
    "     param_xpt = 220; param_ypt = 210; param_height = 150; param_width = 250; param_threshold = 20\n",
    "elif inputfilename == \"03112018_SponSleep_LFP\":\n",
    "     param_xpt = 200; param_ypt = 210; param_height = 150; param_width = 250; param_threshold = 20\n",
    "elif inputfilename == \"01112018_SponSleep_LFP\":\n",
    "     param_xpt = 170; param_ypt = 250; param_height = 150; param_width = 250; param_threshold = 20\n",
    "elif inputfilename == \"30102018_SponSleep_LFP\":\n",
    "     param_xpt = 70; param_ypt = 275; param_height = 150; param_width = 250; param_threshold = 20\n",
    "elif inputfilename == \"17092018_SponSleep_LFP\":\n",
    "     param_xpt = 125; param_ypt = 225; param_height = 150; param_width = 250; param_threshold = 20\n",
    "elif inputfilename == \"14092018_SponSleep_LFP\":\n",
    "     param_xpt = 250; param_ypt = 200; param_height = 150; param_width = 250; param_threshold = 15\n",
    "elif inputfilename == \"27072018_SponSleep_LFP\":\n",
    "     param_xpt = 225; param_ypt = 190; param_height = 150; param_width = 250; param_threshold = 20\n",
    "elif inputfilename == \"11122018_SponSleep_LFP\":\n",
    "     param_xpt = 160; param_ypt = 150; param_height = 150; param_width = 250; param_threshold = 15 \n",
    "elif inputfilename == \"13122018_SponSleep_LFP\":\n",
    "     param_xpt = 140; param_ypt = 150; param_height = 150; param_width = 250; param_threshold = 15 \n",
    "elif inputfilename == \"18122018_SponSleep_LFP\":\n",
    "     param_xpt = 230; param_ypt = 150; param_height = 150; param_width = 250; param_threshold = 15\n",
    "elif inputfilename == \"10012019_SponSleep_LFP\":\n",
    "     param_xpt = 230; param_ypt = 200; param_height = 150; param_width = 250; param_threshold = 20\n",
    "elif inputfilename == \"17012019_SponSleep_LFP\":\n",
    "     param_xpt = 170; param_ypt = 225; param_height = 150; param_width = 250; param_threshold = 15\n",
    "elif inputfilename == \"22012019_SponSleep_LFP\":\n",
    "     param_xpt = 170; param_ypt = 150; param_height = 150; param_width = 250; param_threshold = 15\n",
    "elif inputfilename == \"20022019_SponSleep_LFP\":\n",
    "     param_xpt = 220; param_ypt = 200; param_height = 150; param_width = 250; param_threshold = 15\n",
    "elif inputfilename == \"13032019_SponSleep_LFP\":\n",
    "     param_xpt = 200; param_ypt = 180; param_height = 150; param_width = 250; param_threshold = 15\n",
    "elif inputfilename == \"temp_SponSleep_LFP\": # same as \"19092018_SponSleep_LFP\", for demo purposes..\n",
    "     param_xpt = 100; param_ypt = 190; param_height = 150; param_width = 250; param_threshold = 20\n",
    "     fourcc = cv2.VideoWriter_fourcc(*'XVID')\n",
    "     out = cv2.VideoWriter('temp_SponSleep_LFP_annotated.avi',fourcc,30.0,(param_width,param_height))"
   ]
  },
  {
   "cell_type": "code",
   "execution_count": 8,
   "metadata": {},
   "outputs": [
    {
     "name": "stdout",
     "output_type": "stream",
     "text": [
      "/rds/project/tb419/rds-tb419-bekinschtein/Sri/SpatialAttention_Drowsiness/SleepOnset_Drosophila/multichannel/dryad_upload/DrosSponSleep_SciAdvances2023_01/03_14092018_SponSleep_LFP/video/14092018_SponSleep_LFP_01_.avi\n",
      "/rds/project/tb419/rds-tb419-bekinschtein/Sri/SpatialAttention_Drowsiness/SleepOnset_Drosophila/multichannel/dryad_upload/DrosSponSleep_SciAdvances2023_01/03_14092018_SponSleep_LFP/video/14092018_SponSleep_LFP_02_.avi\n",
      "/rds/project/tb419/rds-tb419-bekinschtein/Sri/SpatialAttention_Drowsiness/SleepOnset_Drosophila/multichannel/dryad_upload/DrosSponSleep_SciAdvances2023_01/03_14092018_SponSleep_LFP/video/14092018_SponSleep_LFP_03_.avi\n",
      "/rds/project/tb419/rds-tb419-bekinschtein/Sri/SpatialAttention_Drowsiness/SleepOnset_Drosophila/multichannel/dryad_upload/DrosSponSleep_SciAdvances2023_01/03_14092018_SponSleep_LFP/video/14092018_SponSleep_LFP_04_.avi\n",
      "/rds/project/tb419/rds-tb419-bekinschtein/Sri/SpatialAttention_Drowsiness/SleepOnset_Drosophila/multichannel/dryad_upload/DrosSponSleep_SciAdvances2023_01/03_14092018_SponSleep_LFP/video/14092018_SponSleep_LFP_05_.avi\n",
      "/rds/project/tb419/rds-tb419-bekinschtein/Sri/SpatialAttention_Drowsiness/SleepOnset_Drosophila/multichannel/dryad_upload/DrosSponSleep_SciAdvances2023_01/03_14092018_SponSleep_LFP/video/14092018_SponSleep_LFP_06_.avi\n",
      "/rds/project/tb419/rds-tb419-bekinschtein/Sri/SpatialAttention_Drowsiness/SleepOnset_Drosophila/multichannel/dryad_upload/DrosSponSleep_SciAdvances2023_01/03_14092018_SponSleep_LFP/video/14092018_SponSleep_LFP_07_.avi\n",
      "/rds/project/tb419/rds-tb419-bekinschtein/Sri/SpatialAttention_Drowsiness/SleepOnset_Drosophila/multichannel/dryad_upload/DrosSponSleep_SciAdvances2023_01/03_14092018_SponSleep_LFP/video/14092018_SponSleep_LFP_08_.avi\n",
      "/rds/project/tb419/rds-tb419-bekinschtein/Sri/SpatialAttention_Drowsiness/SleepOnset_Drosophila/multichannel/dryad_upload/DrosSponSleep_SciAdvances2023_01/03_14092018_SponSleep_LFP/video/14092018_SponSleep_LFP_09_.avi\n",
      "/rds/project/tb419/rds-tb419-bekinschtein/Sri/SpatialAttention_Drowsiness/SleepOnset_Drosophila/multichannel/dryad_upload/DrosSponSleep_SciAdvances2023_01/03_14092018_SponSleep_LFP/video/14092018_SponSleep_LFP_10_.avi\n",
      "/rds/project/tb419/rds-tb419-bekinschtein/Sri/SpatialAttention_Drowsiness/SleepOnset_Drosophila/multichannel/dryad_upload/DrosSponSleep_SciAdvances2023_01/03_14092018_SponSleep_LFP/video/14092018_SponSleep_LFP_11_.avi\n",
      "/rds/project/tb419/rds-tb419-bekinschtein/Sri/SpatialAttention_Drowsiness/SleepOnset_Drosophila/multichannel/dryad_upload/DrosSponSleep_SciAdvances2023_01/03_14092018_SponSleep_LFP/video/14092018_SponSleep_LFP_12_.avi\n",
      "/rds/project/tb419/rds-tb419-bekinschtein/Sri/SpatialAttention_Drowsiness/SleepOnset_Drosophila/multichannel/dryad_upload/DrosSponSleep_SciAdvances2023_01/03_14092018_SponSleep_LFP/video/14092018_SponSleep_LFP_13_.avi\n",
      "/rds/project/tb419/rds-tb419-bekinschtein/Sri/SpatialAttention_Drowsiness/SleepOnset_Drosophila/multichannel/dryad_upload/DrosSponSleep_SciAdvances2023_01/03_14092018_SponSleep_LFP/video/14092018_SponSleep_LFP_14_.avi\n",
      "/rds/project/tb419/rds-tb419-bekinschtein/Sri/SpatialAttention_Drowsiness/SleepOnset_Drosophila/multichannel/dryad_upload/DrosSponSleep_SciAdvances2023_01/03_14092018_SponSleep_LFP/video/14092018_SponSleep_LFP_15_.avi\n",
      "/rds/project/tb419/rds-tb419-bekinschtein/Sri/SpatialAttention_Drowsiness/SleepOnset_Drosophila/multichannel/dryad_upload/DrosSponSleep_SciAdvances2023_01/03_14092018_SponSleep_LFP/video/14092018_SponSleep_LFP_16_.avi\n",
      "/rds/project/tb419/rds-tb419-bekinschtein/Sri/SpatialAttention_Drowsiness/SleepOnset_Drosophila/multichannel/dryad_upload/DrosSponSleep_SciAdvances2023_01/03_14092018_SponSleep_LFP/video/14092018_SponSleep_LFP_17_.avi\n",
      "/rds/project/tb419/rds-tb419-bekinschtein/Sri/SpatialAttention_Drowsiness/SleepOnset_Drosophila/multichannel/dryad_upload/DrosSponSleep_SciAdvances2023_01/03_14092018_SponSleep_LFP/video/14092018_SponSleep_LFP_18_.avi\n",
      "/rds/project/tb419/rds-tb419-bekinschtein/Sri/SpatialAttention_Drowsiness/SleepOnset_Drosophila/multichannel/dryad_upload/DrosSponSleep_SciAdvances2023_01/03_14092018_SponSleep_LFP/video/14092018_SponSleep_LFP_19_.avi\n",
      "/rds/project/tb419/rds-tb419-bekinschtein/Sri/SpatialAttention_Drowsiness/SleepOnset_Drosophila/multichannel/dryad_upload/DrosSponSleep_SciAdvances2023_01/03_14092018_SponSleep_LFP/video/14092018_SponSleep_LFP_20_.avi\n",
      "/rds/project/tb419/rds-tb419-bekinschtein/Sri/SpatialAttention_Drowsiness/SleepOnset_Drosophila/multichannel/dryad_upload/DrosSponSleep_SciAdvances2023_01/03_14092018_SponSleep_LFP/video/14092018_SponSleep_LFP_21_.avi\n",
      "/rds/project/tb419/rds-tb419-bekinschtein/Sri/SpatialAttention_Drowsiness/SleepOnset_Drosophila/multichannel/dryad_upload/DrosSponSleep_SciAdvances2023_01/03_14092018_SponSleep_LFP/video/14092018_SponSleep_LFP_22_.avi\n",
      "/rds/project/tb419/rds-tb419-bekinschtein/Sri/SpatialAttention_Drowsiness/SleepOnset_Drosophila/multichannel/dryad_upload/DrosSponSleep_SciAdvances2023_01/03_14092018_SponSleep_LFP/video/14092018_SponSleep_LFP_01_.csv\n",
      "/rds/project/tb419/rds-tb419-bekinschtein/Sri/SpatialAttention_Drowsiness/SleepOnset_Drosophila/multichannel/dryad_upload/DrosSponSleep_SciAdvances2023_01/03_14092018_SponSleep_LFP/video/14092018_SponSleep_LFP_02_.csv\n",
      "/rds/project/tb419/rds-tb419-bekinschtein/Sri/SpatialAttention_Drowsiness/SleepOnset_Drosophila/multichannel/dryad_upload/DrosSponSleep_SciAdvances2023_01/03_14092018_SponSleep_LFP/video/14092018_SponSleep_LFP_03_.csv\n",
      "/rds/project/tb419/rds-tb419-bekinschtein/Sri/SpatialAttention_Drowsiness/SleepOnset_Drosophila/multichannel/dryad_upload/DrosSponSleep_SciAdvances2023_01/03_14092018_SponSleep_LFP/video/14092018_SponSleep_LFP_04_.csv\n",
      "/rds/project/tb419/rds-tb419-bekinschtein/Sri/SpatialAttention_Drowsiness/SleepOnset_Drosophila/multichannel/dryad_upload/DrosSponSleep_SciAdvances2023_01/03_14092018_SponSleep_LFP/video/14092018_SponSleep_LFP_05_.csv\n",
      "/rds/project/tb419/rds-tb419-bekinschtein/Sri/SpatialAttention_Drowsiness/SleepOnset_Drosophila/multichannel/dryad_upload/DrosSponSleep_SciAdvances2023_01/03_14092018_SponSleep_LFP/video/14092018_SponSleep_LFP_06_.csv\n",
      "/rds/project/tb419/rds-tb419-bekinschtein/Sri/SpatialAttention_Drowsiness/SleepOnset_Drosophila/multichannel/dryad_upload/DrosSponSleep_SciAdvances2023_01/03_14092018_SponSleep_LFP/video/14092018_SponSleep_LFP_07_.csv\n",
      "/rds/project/tb419/rds-tb419-bekinschtein/Sri/SpatialAttention_Drowsiness/SleepOnset_Drosophila/multichannel/dryad_upload/DrosSponSleep_SciAdvances2023_01/03_14092018_SponSleep_LFP/video/14092018_SponSleep_LFP_08_.csv\n",
      "/rds/project/tb419/rds-tb419-bekinschtein/Sri/SpatialAttention_Drowsiness/SleepOnset_Drosophila/multichannel/dryad_upload/DrosSponSleep_SciAdvances2023_01/03_14092018_SponSleep_LFP/video/14092018_SponSleep_LFP_09_.csv\n",
      "/rds/project/tb419/rds-tb419-bekinschtein/Sri/SpatialAttention_Drowsiness/SleepOnset_Drosophila/multichannel/dryad_upload/DrosSponSleep_SciAdvances2023_01/03_14092018_SponSleep_LFP/video/14092018_SponSleep_LFP_10_.csv\n",
      "/rds/project/tb419/rds-tb419-bekinschtein/Sri/SpatialAttention_Drowsiness/SleepOnset_Drosophila/multichannel/dryad_upload/DrosSponSleep_SciAdvances2023_01/03_14092018_SponSleep_LFP/video/14092018_SponSleep_LFP_11_.csv\n",
      "/rds/project/tb419/rds-tb419-bekinschtein/Sri/SpatialAttention_Drowsiness/SleepOnset_Drosophila/multichannel/dryad_upload/DrosSponSleep_SciAdvances2023_01/03_14092018_SponSleep_LFP/video/14092018_SponSleep_LFP_12_.csv\n",
      "/rds/project/tb419/rds-tb419-bekinschtein/Sri/SpatialAttention_Drowsiness/SleepOnset_Drosophila/multichannel/dryad_upload/DrosSponSleep_SciAdvances2023_01/03_14092018_SponSleep_LFP/video/14092018_SponSleep_LFP_13_.csv\n",
      "/rds/project/tb419/rds-tb419-bekinschtein/Sri/SpatialAttention_Drowsiness/SleepOnset_Drosophila/multichannel/dryad_upload/DrosSponSleep_SciAdvances2023_01/03_14092018_SponSleep_LFP/video/14092018_SponSleep_LFP_14_.csv\n",
      "/rds/project/tb419/rds-tb419-bekinschtein/Sri/SpatialAttention_Drowsiness/SleepOnset_Drosophila/multichannel/dryad_upload/DrosSponSleep_SciAdvances2023_01/03_14092018_SponSleep_LFP/video/14092018_SponSleep_LFP_15_.csv\n",
      "/rds/project/tb419/rds-tb419-bekinschtein/Sri/SpatialAttention_Drowsiness/SleepOnset_Drosophila/multichannel/dryad_upload/DrosSponSleep_SciAdvances2023_01/03_14092018_SponSleep_LFP/video/14092018_SponSleep_LFP_16_.csv\n",
      "/rds/project/tb419/rds-tb419-bekinschtein/Sri/SpatialAttention_Drowsiness/SleepOnset_Drosophila/multichannel/dryad_upload/DrosSponSleep_SciAdvances2023_01/03_14092018_SponSleep_LFP/video/14092018_SponSleep_LFP_17_.csv\n",
      "/rds/project/tb419/rds-tb419-bekinschtein/Sri/SpatialAttention_Drowsiness/SleepOnset_Drosophila/multichannel/dryad_upload/DrosSponSleep_SciAdvances2023_01/03_14092018_SponSleep_LFP/video/14092018_SponSleep_LFP_18_.csv\n",
      "/rds/project/tb419/rds-tb419-bekinschtein/Sri/SpatialAttention_Drowsiness/SleepOnset_Drosophila/multichannel/dryad_upload/DrosSponSleep_SciAdvances2023_01/03_14092018_SponSleep_LFP/video/14092018_SponSleep_LFP_19_.csv\n",
      "/rds/project/tb419/rds-tb419-bekinschtein/Sri/SpatialAttention_Drowsiness/SleepOnset_Drosophila/multichannel/dryad_upload/DrosSponSleep_SciAdvances2023_01/03_14092018_SponSleep_LFP/video/14092018_SponSleep_LFP_20_.csv\n",
      "/rds/project/tb419/rds-tb419-bekinschtein/Sri/SpatialAttention_Drowsiness/SleepOnset_Drosophila/multichannel/dryad_upload/DrosSponSleep_SciAdvances2023_01/03_14092018_SponSleep_LFP/video/14092018_SponSleep_LFP_21_.csv\n",
      "/rds/project/tb419/rds-tb419-bekinschtein/Sri/SpatialAttention_Drowsiness/SleepOnset_Drosophila/multichannel/dryad_upload/DrosSponSleep_SciAdvances2023_01/03_14092018_SponSleep_LFP/video/14092018_SponSleep_LFP_22_.csv\n"
     ]
    }
   ],
   "source": [
    "videofilelist = []\n",
    "\n",
    "for name in sorted(glob.glob(inputfolderpath + inputfilename + \"_*.avi\")):\n",
    "    videofilelist.append(name)\n",
    "    print(name)\n",
    "    \n",
    "csvfilelist = []    \n",
    "for name in sorted(glob.glob(inputfolderpath + inputfilename + \"_*.csv\")):\n",
    "    csvfilelist.append(name)\n",
    "    print(name)\n",
    "    \n",
    "indexlength = range(len(videofilelist))\n",
    "fullist = [x for x in zip(videofilelist, csvfilelist, indexlength)]"
   ]
  },
  {
   "cell_type": "code",
   "execution_count": 9,
   "metadata": {},
   "outputs": [],
   "source": [
    "if len(fullist) == 1:\n",
    "    display = True\n",
    "else:\n",
    "    display = False"
   ]
  },
  {
   "cell_type": "code",
   "execution_count": 10,
   "metadata": {},
   "outputs": [
    {
     "data": {
      "text/plain": [
       "22"
      ]
     },
     "execution_count": 10,
     "metadata": {},
     "output_type": "execute_result"
    }
   ],
   "source": [
    "len(fullist)"
   ]
  },
  {
   "cell_type": "code",
   "execution_count": 11,
   "metadata": {},
   "outputs": [],
   "source": [
    "def multi_run_wrapper(args):\n",
    "    return motion_detection(*args)"
   ]
  },
  {
   "cell_type": "code",
   "execution_count": 12,
   "metadata": {},
   "outputs": [],
   "source": [
    "def motion_detection(videofile, csvfile, index):\n",
    "    print(\" video file #\" + str(index+1) +\" :\" + os.path.basename(videofile))\n",
    "    functext = \" csv file #\" + str(index+1) +\" :\" + os.path.basename(csvfile)\n",
    "    #Use moviepy to load the clip instead of opencv\n",
    "    clip = VideoFileClip(videofile) \n",
    "\n",
    "    # initialize the first frame in the video stream\n",
    "    refFrame = None\n",
    "    cnt = 0\n",
    "\n",
    "    #store the data in a csv file as you go..\n",
    "    df = read_csv(csvfile)\n",
    "    df['Movement'] = ''\n",
    "    df['Area'] = ''\n",
    "\n",
    "    length = int(len(df))\n",
    "\n",
    "    pbar = tqdm_notebook(total = length)\n",
    "    \n",
    "    for frame in clip.iter_frames():\n",
    "    \n",
    "        #cnt = cnt +1\n",
    "        #if cnt > 58629:\n",
    "        frame = cv2.cvtColor(frame, cv2.COLOR_BGR2RGB)\n",
    "        orig_frame = frame\n",
    "\n",
    "        #Just load a part of the main scene..\n",
    "        x = param_xpt #125,250\n",
    "        y = param_ypt #125,190\n",
    "        height = param_height #500,150\n",
    "        width = param_width  #500,250\n",
    "        frame = frame[y:y+height, x:x+width]\n",
    "\n",
    "        #Use gray scale images for further processing..\n",
    "        colordispframe = frame\n",
    "        gray = cv2.cvtColor(frame, cv2.COLOR_BGR2GRAY)\n",
    "        text = \"No mov\"\n",
    "\n",
    "        if refFrame is None:\n",
    "            refFrame = gray # Ref frame is the first frame incase if this is the first frame\n",
    "\n",
    "        # compute the absolute difference between the current frame and previous frame\n",
    "        frameDelta = cv2.absdiff(refFrame, gray)\n",
    "        dispframeDelta = colordispframe\n",
    "        # Set every pixel that changed by 20 to 255, and all others to zero.\n",
    "        threshold_value = param_threshold #20,15\n",
    "        set_to_value = 255\n",
    "        result = cv2.threshold(frameDelta, threshold_value, set_to_value, cv2.THRESH_BINARY)\n",
    "        thresh = result[1] \n",
    "\n",
    "        # dilate the thresholded image to fill in holes, then find contours on thresholded image\n",
    "        thresh = cv2.dilate(thresh, None, iterations=2)\n",
    "        cnts = cv2.findContours(thresh.copy(), cv2.RETR_EXTERNAL,cv2.CHAIN_APPROX_SIMPLE)\n",
    "        #cnts = cnts[0] if imutils.is_cv2() else cnts[1] #this is for opencv3\n",
    "        cnts = cnts[0] #this is for opencv4\n",
    "\n",
    "        c_area = 0\n",
    "\n",
    "        # loop over the contours\n",
    "        for c in cnts:\n",
    "            if cv2.contourArea(c) < 75:\n",
    "                continue\n",
    "            c_area = c_area + cv2.contourArea(c)\n",
    "            (x, y, w, h) = cv2.boundingRect(c)\n",
    "            cv2.rectangle(dispframeDelta, (x, y), (x + w, y + h), (0, 255, 0), 2)\n",
    "            text = \"Moved\"\n",
    "\n",
    "\n",
    "\n",
    "        refFrame = gray # Ref frame is the last frame\n",
    "        r_val = 0\n",
    "        g_val = 255\n",
    "        if text == \"No mov\":\n",
    "            r_val = 255\n",
    "            g_val = 0\n",
    "        cv2.putText(dispframeDelta, \n",
    "                    \"Status: {}\".format(text), \n",
    "                    (10, dispframeDelta.shape[0] - 300),cv2.FONT_HERSHEY_COMPLEX, \n",
    "                    0.75, (0, g_val, r_val), 2)\n",
    "\n",
    "        if display:\n",
    "            dispfullframe = orig_frame\n",
    "            dispfullframe[param_ypt:param_ypt+param_height, param_xpt:param_xpt+param_width] = dispframeDelta\n",
    "            cv2.imshow('Fly movement Detector:#' + str(index),dispfullframe)\n",
    "\n",
    "        if text == \"No mov\":\n",
    "            df.loc[cnt, 'Movement'] = \"Still\"\n",
    "        else:\n",
    "            df.loc[cnt, 'Movement'] = \"Moved\"   \n",
    "\n",
    "        df.loc[cnt,'Area'] = c_area\n",
    "\n",
    "        cnt = cnt +1\n",
    "\n",
    "        pbar.update(1)\n",
    "\n",
    "        # Write the frame into the file 'output.avi'\n",
    "        if inputfilename == \"temp_SponSleep_LFP\":\n",
    "            out.write(dispframeDelta)\n",
    "\n",
    "        if cv2.waitKey(1) & 0xFF == ord('q'):\n",
    "            break\n",
    "        if cnt == length:\n",
    "            break\n",
    "        \n",
    "    df.to_csv(outputfolderpath + csvfile[len(inputfolderpath):-5] + \"_mov\" + \".csv\", encoding='utf-8', index=False)\n",
    "    pbar.close()\n",
    "    \n",
    "    if inputfilename == \"temp_SponSleep_LFP\":\n",
    "        out.release()\n",
    "    \n",
    "    cv2.waitKey(1)\n",
    "    if display:\n",
    "        cv2.destroyWindow('Fly movement Detector:#' + str(index))  \n",
    "        \n",
    "    return functext"
   ]
  },
  {
   "cell_type": "code",
   "execution_count": null,
   "metadata": {},
   "outputs": [],
   "source": [
    "if __name__ == \"__main__\":\n",
    "    #pool = Pool(len(videofilelist))\n",
    "    #results = pool.map(multi_run_wrapper,fullist)\n",
    "    #print results\n",
    "    \n",
    "    #no multiprocessing in linux..\n",
    "    for idx in range(0, len(fullist)):\n",
    "        results =  motion_detection(videofilelist[idx], csvfilelist[idx], idx)\n",
    "        print(results)"
   ]
  },
  {
   "cell_type": "code",
   "execution_count": null,
   "metadata": {},
   "outputs": [],
   "source": []
  },
  {
   "cell_type": "code",
   "execution_count": null,
   "metadata": {},
   "outputs": [],
   "source": []
  },
  {
   "cell_type": "code",
   "execution_count": null,
   "metadata": {},
   "outputs": [],
   "source": []
  },
  {
   "cell_type": "code",
   "execution_count": null,
   "metadata": {},
   "outputs": [],
   "source": []
  }
 ],
 "metadata": {
  "kernelspec": {
   "display_name": "Python 3",
   "language": "python",
   "name": "python3"
  },
  "language_info": {
   "codemirror_mode": {
    "name": "ipython",
    "version": 3
   },
   "file_extension": ".py",
   "mimetype": "text/x-python",
   "name": "python",
   "nbconvert_exporter": "python",
   "pygments_lexer": "ipython3",
   "version": "3.6.8"
  }
 },
 "nbformat": 4,
 "nbformat_minor": 2
}
